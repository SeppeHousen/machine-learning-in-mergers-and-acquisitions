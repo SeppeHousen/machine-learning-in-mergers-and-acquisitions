{
 "cells": [
  {
   "cell_type": "markdown",
   "source": [
    "# 0. Introduction"
   ],
   "metadata": {
    "collapsed": false,
    "pycharm": {
     "name": "#%% md\n"
    }
   }
  },
  {
   "cell_type": "markdown",
   "source": [
    "In this notebook we explore the different tables in the \"Cruncbase 2013 snapshot\"\n",
    "The main questions we want to answer are: What data is available? What data is useful for modelling?\n",
    "The output of this notebook is a dataset containing the data for further analysis"
   ],
   "metadata": {
    "collapsed": false,
    "pycharm": {
     "name": "#%% md\n"
    }
   }
  },
  {
   "cell_type": "code",
   "execution_count": 1,
   "outputs": [],
   "source": [
    "# Importing the libraries\n",
    "import pandas as pd"
   ],
   "metadata": {
    "collapsed": false,
    "pycharm": {
     "name": "#%%\n"
    }
   }
  },
  {
   "cell_type": "code",
   "execution_count": 16,
   "outputs": [],
   "source": [
    "# read in the different tables\n",
    "acquisition_df = pd.read_csv(r\"C:\\Users\\32474\\Documents\\Ma TEW\\masterthesis\\data\\acquisitions.csv\")\n",
    "degrees_df = pd.read_csv(r\"C:\\Users\\32474\\Documents\\Ma TEW\\masterthesis\\data\\degrees.csv\")\n",
    "investments_df = pd.read_csv(r\"C:\\Users\\32474\\Documents\\Ma TEW\\masterthesis\\data\\investments.csv\")\n",
    "offices_df = pd.read_csv(r\"C:\\Users\\32474\\Documents\\Ma TEW\\masterthesis\\data\\offices.csv\")\n",
    "people_df = pd.read_csv(r\"C:\\Users\\32474\\Documents\\Ma TEW\\masterthesis\\data\\people.csv\")\n",
    "relationships_df = pd.read_csv(r\"C:\\Users\\32474\\Documents\\Ma TEW\\masterthesis\\data\\relationships.csv\")\n",
    "objects_df = pd.read_excel(r\"C:\\Users\\32474\\Documents\\Ma TEW\\masterthesis\\data\\object_reworked.xlsx\")"
   ],
   "metadata": {
    "collapsed": false,
    "pycharm": {
     "name": "#%%\n"
    }
   }
  },
  {
   "cell_type": "markdown",
   "source": [
    "We will look at each table that is available.\n",
    "From this we can decide which data is useful, which data we need to fill and how we want to merge the data"
   ],
   "metadata": {
    "collapsed": false,
    "pycharm": {
     "name": "#%% md\n"
    }
   }
  },
  {
   "cell_type": "markdown",
   "source": [
    "# 1. Acquisitions"
   ],
   "metadata": {
    "collapsed": false,
    "pycharm": {
     "name": "#%% md\n"
    }
   }
  },
  {
   "cell_type": "code",
   "execution_count": 18,
   "outputs": [
    {
     "data": {
      "text/plain": "(9562, 12)"
     },
     "execution_count": 18,
     "metadata": {},
     "output_type": "execute_result"
    }
   ],
   "source": [
    "acquisition_df.shape"
   ],
   "metadata": {
    "collapsed": false,
    "pycharm": {
     "name": "#%%\n"
    }
   }
  },
  {
   "cell_type": "code",
   "execution_count": 19,
   "outputs": [
    {
     "data": {
      "text/plain": "   id  acquisition_id acquiring_object_id acquired_object_id term_code  \\\n0   1               1                c:11               c:10       NaN   \n1   2               7                c:59               c:72      cash   \n2   3               8                c:24              c:132      cash   \n3   4               9                c:59              c:155      cash   \n4   5              10               c:212              c:215      cash   \n\n   price_amount price_currency_code acquired_at  \\\n0    20000000.0                 USD  2007-05-30   \n1    60000000.0                 USD  2007-07-01   \n2   280000000.0                 USD  2007-05-01   \n3   100000000.0                 USD  2007-06-01   \n4    25000000.0                 USD  2007-07-01   \n\n                                          source_url  \\\n0  http://venturebeat.com/2007/05/30/fox-interact...   \n1  http://www.techcrunch.com/2007/07/02/deal-is-c...   \n2  http://www.techcrunch.com/2007/05/30/cbs-acqui...   \n3  http://techcrunch.com/2007/05/23/100-million-p...   \n4  http://blog.seattlepi.nwsource.com/venture/arc...   \n\n                                  source_description           created_at  \\\n0  Fox Interactive confirms purchase of Photobuck...  2007-05-31 22:19:54   \n1    Deal is Confirmed: Google Acquired GrandCentral  2007-07-03 08:14:50   \n2   CBS Acquires Europeâs Last.fm for $280 million  2007-07-12 04:19:24   \n3  $100 Million Payday For Feedburner  This Deal...  2007-07-13 09:52:59   \n4                                       seatlepi.com  2007-07-20 05:29:07   \n\n            updated_at  \n0  2008-05-21 19:23:44  \n1  2011-05-06 21:51:05  \n2  2008-05-19 04:48:50  \n3  2012-06-05 03:22:17  \n4  2008-02-25 00:23:47  ",
      "text/html": "<div>\n<style scoped>\n    .dataframe tbody tr th:only-of-type {\n        vertical-align: middle;\n    }\n\n    .dataframe tbody tr th {\n        vertical-align: top;\n    }\n\n    .dataframe thead th {\n        text-align: right;\n    }\n</style>\n<table border=\"1\" class=\"dataframe\">\n  <thead>\n    <tr style=\"text-align: right;\">\n      <th></th>\n      <th>id</th>\n      <th>acquisition_id</th>\n      <th>acquiring_object_id</th>\n      <th>acquired_object_id</th>\n      <th>term_code</th>\n      <th>price_amount</th>\n      <th>price_currency_code</th>\n      <th>acquired_at</th>\n      <th>source_url</th>\n      <th>source_description</th>\n      <th>created_at</th>\n      <th>updated_at</th>\n    </tr>\n  </thead>\n  <tbody>\n    <tr>\n      <th>0</th>\n      <td>1</td>\n      <td>1</td>\n      <td>c:11</td>\n      <td>c:10</td>\n      <td>NaN</td>\n      <td>20000000.0</td>\n      <td>USD</td>\n      <td>2007-05-30</td>\n      <td>http://venturebeat.com/2007/05/30/fox-interact...</td>\n      <td>Fox Interactive confirms purchase of Photobuck...</td>\n      <td>2007-05-31 22:19:54</td>\n      <td>2008-05-21 19:23:44</td>\n    </tr>\n    <tr>\n      <th>1</th>\n      <td>2</td>\n      <td>7</td>\n      <td>c:59</td>\n      <td>c:72</td>\n      <td>cash</td>\n      <td>60000000.0</td>\n      <td>USD</td>\n      <td>2007-07-01</td>\n      <td>http://www.techcrunch.com/2007/07/02/deal-is-c...</td>\n      <td>Deal is Confirmed: Google Acquired GrandCentral</td>\n      <td>2007-07-03 08:14:50</td>\n      <td>2011-05-06 21:51:05</td>\n    </tr>\n    <tr>\n      <th>2</th>\n      <td>3</td>\n      <td>8</td>\n      <td>c:24</td>\n      <td>c:132</td>\n      <td>cash</td>\n      <td>280000000.0</td>\n      <td>USD</td>\n      <td>2007-05-01</td>\n      <td>http://www.techcrunch.com/2007/05/30/cbs-acqui...</td>\n      <td>CBS Acquires Europeâs Last.fm for $280 million</td>\n      <td>2007-07-12 04:19:24</td>\n      <td>2008-05-19 04:48:50</td>\n    </tr>\n    <tr>\n      <th>3</th>\n      <td>4</td>\n      <td>9</td>\n      <td>c:59</td>\n      <td>c:155</td>\n      <td>cash</td>\n      <td>100000000.0</td>\n      <td>USD</td>\n      <td>2007-06-01</td>\n      <td>http://techcrunch.com/2007/05/23/100-million-p...</td>\n      <td>$100 Million Payday For Feedburner  This Deal...</td>\n      <td>2007-07-13 09:52:59</td>\n      <td>2012-06-05 03:22:17</td>\n    </tr>\n    <tr>\n      <th>4</th>\n      <td>5</td>\n      <td>10</td>\n      <td>c:212</td>\n      <td>c:215</td>\n      <td>cash</td>\n      <td>25000000.0</td>\n      <td>USD</td>\n      <td>2007-07-01</td>\n      <td>http://blog.seattlepi.nwsource.com/venture/arc...</td>\n      <td>seatlepi.com</td>\n      <td>2007-07-20 05:29:07</td>\n      <td>2008-02-25 00:23:47</td>\n    </tr>\n  </tbody>\n</table>\n</div>"
     },
     "execution_count": 19,
     "metadata": {},
     "output_type": "execute_result"
    }
   ],
   "source": [
    "acquisition_df.head()"
   ],
   "metadata": {
    "collapsed": false,
    "pycharm": {
     "name": "#%%\n"
    }
   }
  },
  {
   "cell_type": "code",
   "execution_count": 20,
   "outputs": [
    {
     "data": {
      "text/plain": "id                        0\nacquisition_id            0\nacquiring_object_id       0\nacquired_object_id        1\nterm_code              7656\nprice_amount              0\nprice_currency_code       4\nacquired_at              29\nsource_url              996\nsource_description      972\ncreated_at                0\nupdated_at                0\ndtype: int64"
     },
     "execution_count": 20,
     "metadata": {},
     "output_type": "execute_result"
    }
   ],
   "source": [
    "acquisition_df.isnull().sum()"
   ],
   "metadata": {
    "collapsed": false,
    "pycharm": {
     "name": "#%%\n"
    }
   }
  },
  {
   "cell_type": "code",
   "execution_count": 21,
   "outputs": [
    {
     "data": {
      "text/plain": "2599"
     },
     "execution_count": 21,
     "metadata": {},
     "output_type": "execute_result"
    }
   ],
   "source": [
    "len(acquisition_df[acquisition_df.price_amount != 0])"
   ],
   "metadata": {
    "collapsed": false,
    "pycharm": {
     "name": "#%%\n"
    }
   }
  },
  {
   "cell_type": "markdown",
   "source": [
    "**Conclusion**\n",
    "We only have about 2600 M&A deals that contain a deal price\n",
    "these deals are the starting point from our analysis. We can enrich this data by merging the acquirers and acquired firms and their relevant information.\n",
    "We start by creating a deals dataframe that will be the basis. Next we create the acquirer and acquired dataframes, these can than be merged to it"
   ],
   "metadata": {
    "collapsed": false,
    "pycharm": {
     "name": "#%% md\n"
    }
   }
  },
  {
   "cell_type": "code",
   "execution_count": 22,
   "outputs": [],
   "source": [
    "# Create a dataframe that will be the basis of the analysis\n",
    "df = acquisition_df.loc[acquisition_df.price_amount != 0]\n",
    "df = df.drop(columns=[\"id\", \"acquisition_id\", \"term_code\", \"created_at\", \"updated_at\", \"source_url\", \"source_description\"])\n",
    "df = df.dropna()"
   ],
   "metadata": {
    "collapsed": false,
    "pycharm": {
     "name": "#%%\n"
    }
   }
  },
  {
   "cell_type": "code",
   "execution_count": 23,
   "outputs": [
    {
     "data": {
      "text/plain": "(2595, 5)"
     },
     "execution_count": 23,
     "metadata": {},
     "output_type": "execute_result"
    }
   ],
   "source": [
    "df.shape"
   ],
   "metadata": {
    "collapsed": false,
    "pycharm": {
     "name": "#%%\n"
    }
   }
  },
  {
   "cell_type": "markdown",
   "source": [
    "# 2.  Objects"
   ],
   "metadata": {
    "collapsed": false,
    "pycharm": {
     "name": "#%% md\n"
    }
   }
  },
  {
   "cell_type": "markdown",
   "source": [
    "Get the relevant acquirer and acquired companies and link them to the deals with a price higher than 0"
   ],
   "metadata": {
    "collapsed": false,
    "pycharm": {
     "name": "#%% md\n"
    }
   }
  },
  {
   "cell_type": "code",
   "execution_count": 24,
   "outputs": [],
   "source": [
    "# Select relevant columns\n",
    "columns = [\"id\", \"entity_type\", \"name\", \"category_code\", \"founded_at\", \"country_code\", \"region\", \"investment_rounds\", \"invested_companies\",\n",
    "                    \"funding_rounds\", \"funding_total_usd\", \"milestones\", \"relationships\"]\n",
    "objects_df = objects_df.loc[:, columns]"
   ],
   "metadata": {
    "collapsed": false,
    "pycharm": {
     "name": "#%%\n"
    }
   }
  },
  {
   "cell_type": "code",
   "execution_count": 25,
   "outputs": [],
   "source": [
    "# Get the acquiring firms\n",
    "acquirers_df = pd.merge(objects_df, df, left_on=\"id\", right_on=\"acquiring_object_id\")\n",
    "acquirers_df = acquirers_df.loc[:, columns]"
   ],
   "metadata": {
    "collapsed": false,
    "pycharm": {
     "name": "#%%\n"
    }
   }
  },
  {
   "cell_type": "code",
   "execution_count": 26,
   "outputs": [],
   "source": [
    "# Get the acquired firms\n",
    "acquired_df = pd.merge(objects_df, df, left_on=\"id\", right_on=\"acquired_object_id\")\n",
    "acquired_df = acquired_df.loc[:, columns]"
   ],
   "metadata": {
    "collapsed": false,
    "pycharm": {
     "name": "#%%\n"
    }
   }
  },
  {
   "cell_type": "markdown",
   "source": [
    "## 2.1. Acquirer"
   ],
   "metadata": {
    "collapsed": false,
    "pycharm": {
     "name": "#%% md\n"
    }
   }
  },
  {
   "cell_type": "code",
   "execution_count": 27,
   "outputs": [
    {
     "data": {
      "text/plain": "(2583, 13)"
     },
     "execution_count": 27,
     "metadata": {},
     "output_type": "execute_result"
    }
   ],
   "source": [
    "acquirers_df.shape"
   ],
   "metadata": {
    "collapsed": false,
    "pycharm": {
     "name": "#%%\n"
    }
   }
  },
  {
   "cell_type": "code",
   "execution_count": 29,
   "outputs": [
    {
     "data": {
      "text/plain": "id                      0\nentity_type             0\nname                    0\ncategory_code         216\nfounded_at            689\ncountry_code          172\nregion                  0\ninvestment_rounds       0\ninvested_companies      0\nfunding_rounds          0\nfunding_total_usd       0\nmilestones              0\nrelationships           0\ndtype: int64"
     },
     "execution_count": 29,
     "metadata": {},
     "output_type": "execute_result"
    }
   ],
   "source": [
    "acquirers_df.isnull().sum()"
   ],
   "metadata": {
    "collapsed": false,
    "pycharm": {
     "name": "#%%\n"
    }
   }
  },
  {
   "cell_type": "code",
   "execution_count": 35,
   "outputs": [],
   "source": [
    "# Get the year the company was founded in\n",
    "acquirers_df[\"founded_year\"] = acquirers_df[\"founded_at\"].dt.year\n",
    "acquirers_df = acquirers_df.drop(\"founded_at\", axis = 1)"
   ],
   "metadata": {
    "collapsed": false,
    "pycharm": {
     "name": "#%%\n"
    }
   }
  },
  {
   "cell_type": "code",
   "execution_count": 36,
   "outputs": [
    {
     "data": {
      "text/plain": "1994.0"
     },
     "execution_count": 36,
     "metadata": {},
     "output_type": "execute_result"
    }
   ],
   "source": [
    "acquirers_df.founded_year.median()"
   ],
   "metadata": {
    "collapsed": false,
    "pycharm": {
     "name": "#%%\n"
    }
   }
  },
  {
   "cell_type": "code",
   "execution_count": 16,
   "outputs": [],
   "source": [
    "# fill the empty years with the median year (1994)\n",
    "acquirers_df[\"category_code\"].fillna(\"other\", inplace=True)\n",
    "acquirers_df[\"founded_year\"].fillna(acquirers_df[\"founded_year\"].median(), inplace=True)"
   ],
   "metadata": {
    "collapsed": false,
    "pycharm": {
     "name": "#%%\n"
    }
   }
  },
  {
   "cell_type": "markdown",
   "source": [
    "##  2.2. Acquired"
   ],
   "metadata": {
    "collapsed": false,
    "pycharm": {
     "name": "#%% md\n"
    }
   }
  },
  {
   "cell_type": "code",
   "execution_count": 17,
   "outputs": [
    {
     "data": {
      "text/plain": "(2592, 13)"
     },
     "execution_count": 17,
     "metadata": {},
     "output_type": "execute_result"
    }
   ],
   "source": [
    "acquired_df.shape"
   ],
   "metadata": {
    "collapsed": false,
    "pycharm": {
     "name": "#%%\n"
    }
   }
  },
  {
   "cell_type": "code",
   "execution_count": 30,
   "outputs": [
    {
     "data": {
      "text/plain": "id                       0\nentity_type              0\nname                     0\ncategory_code          522\nfounded_at            1082\ncountry_code           557\nregion                   0\ninvestment_rounds        0\ninvested_companies       0\nfunding_rounds           0\nfunding_total_usd        0\nmilestones               0\nrelationships            0\ndtype: int64"
     },
     "execution_count": 30,
     "metadata": {},
     "output_type": "execute_result"
    }
   ],
   "source": [
    "acquired_df.isnull().sum()"
   ],
   "metadata": {
    "collapsed": false,
    "pycharm": {
     "name": "#%%\n"
    }
   }
  },
  {
   "cell_type": "code",
   "execution_count": 32,
   "outputs": [],
   "source": [
    "# Get the year the company was founded in\n",
    "acquired_df[\"founded_year\"] = acquired_df[\"founded_at\"].dt.year\n",
    "acquired_df = acquired_df.drop(\"founded_at\", axis = 1)"
   ],
   "metadata": {
    "collapsed": false,
    "pycharm": {
     "name": "#%%\n"
    }
   }
  },
  {
   "cell_type": "code",
   "execution_count": 33,
   "outputs": [
    {
     "data": {
      "text/plain": "2000.0"
     },
     "execution_count": 33,
     "metadata": {},
     "output_type": "execute_result"
    }
   ],
   "source": [
    "acquired_df.founded_year.median()"
   ],
   "metadata": {
    "collapsed": false,
    "pycharm": {
     "name": "#%%\n"
    }
   }
  },
  {
   "cell_type": "code",
   "execution_count": 19,
   "outputs": [],
   "source": [
    "# fill the empty years with the median year (2000)\n",
    "acquired_df[\"category_code\"].fillna(\"other\", inplace=True)\n",
    "acquired_df[\"founded_year\"].fillna(acquired_df[\"founded_year\"].median(), inplace=True)"
   ],
   "metadata": {
    "collapsed": false,
    "pycharm": {
     "name": "#%%\n"
    }
   }
  },
  {
   "cell_type": "markdown",
   "source": [
    "# 3. Investments"
   ],
   "metadata": {
    "collapsed": false
   }
  },
  {
   "cell_type": "markdown",
   "source": [
    "More than 700 companies have one or more VC investors affiliated with them.\n",
    "We created a list with the number of investors that can be added to the acquired dataframe"
   ],
   "metadata": {
    "collapsed": false
   }
  },
  {
   "cell_type": "code",
   "execution_count": 20,
   "outputs": [],
   "source": [
    "VC_backed = pd.merge(investments_df, acquired_df, left_on=\"funded_object_id\", right_on=\"id\")"
   ],
   "metadata": {
    "collapsed": false,
    "pycharm": {
     "name": "#%%\n"
    }
   }
  },
  {
   "cell_type": "code",
   "execution_count": 21,
   "outputs": [],
   "source": [
    "# Create a list with the number of investors in the companies\n",
    "number_investors = VC_backed.groupby(\"funded_object_id\")[\"investor_object_id\"].nunique()"
   ],
   "metadata": {
    "collapsed": false,
    "pycharm": {
     "name": "#%%\n"
    }
   }
  },
  {
   "cell_type": "code",
   "execution_count": 22,
   "outputs": [],
   "source": [
    "# Add this list to the aqcuired dataframe\n",
    "acquired_df = pd.merge(acquired_df, number_investors, how=\"left\", left_on=\"id\", right_on=\"funded_object_id\")\n",
    "acquired_df.rename(columns={\"investor_object_id\": \"number_of_investors\"}, inplace=True)\n",
    "acquired_df[\"number_of_investors\"].fillna(0, inplace=True)"
   ],
   "metadata": {
    "collapsed": false,
    "pycharm": {
     "name": "#%%\n"
    }
   }
  },
  {
   "cell_type": "markdown",
   "source": [
    "# 4. Offices"
   ],
   "metadata": {
    "collapsed": false,
    "pycharm": {
     "name": "#%% md\n"
    }
   }
  },
  {
   "cell_type": "markdown",
   "source": [
    "We get the number of offices for each acquirer and acquired company"
   ],
   "metadata": {
    "collapsed": false,
    "pycharm": {
     "name": "#%% md\n"
    }
   }
  },
  {
   "cell_type": "markdown",
   "source": [
    "## 4.1 Acquirers offices"
   ],
   "metadata": {
    "collapsed": false,
    "pycharm": {
     "name": "#%% md\n"
    }
   }
  },
  {
   "cell_type": "code",
   "execution_count": 23,
   "outputs": [
    {
     "data": {
      "text/plain": "   id object_id  office_id   description   region            address1  \\\n0   1       c:1          1           NaN  Seattle    710 - 2nd Avenue   \n1   2       c:3          3  Headquarters   SF Bay     4900 Hopyard Rd   \n2   3       c:4          4           NaN   SF Bay  135 Mississippi St   \n3   4       c:5          5  Headquarters   SF Bay    1601 Willow Road   \n4   5       c:7          7           NaN   SF Bay           Suite 200   \n\n          address2           city zip_code state_code country_code   latitude  \\\n0       Suite 1100        Seattle    98104         WA          USA  47.603122   \n1        Suite 310     Pleasanton    94588         CA          USA  37.692934   \n2              NaN  San Francisco    94107         CA          USA  37.764726   \n3              NaN     Menlo Park    94025         CA          USA  37.416050   \n4  654 High Street      Palo Alto    94301         CA          ISR   0.000000   \n\n    longitude  created_at  updated_at  \n0 -122.333253         NaN         NaN  \n1 -121.904945         NaN         NaN  \n2 -122.394523         NaN         NaN  \n3 -122.151801         NaN         NaN  \n4    0.000000         NaN         NaN  ",
      "text/html": "<div>\n<style scoped>\n    .dataframe tbody tr th:only-of-type {\n        vertical-align: middle;\n    }\n\n    .dataframe tbody tr th {\n        vertical-align: top;\n    }\n\n    .dataframe thead th {\n        text-align: right;\n    }\n</style>\n<table border=\"1\" class=\"dataframe\">\n  <thead>\n    <tr style=\"text-align: right;\">\n      <th></th>\n      <th>id</th>\n      <th>object_id</th>\n      <th>office_id</th>\n      <th>description</th>\n      <th>region</th>\n      <th>address1</th>\n      <th>address2</th>\n      <th>city</th>\n      <th>zip_code</th>\n      <th>state_code</th>\n      <th>country_code</th>\n      <th>latitude</th>\n      <th>longitude</th>\n      <th>created_at</th>\n      <th>updated_at</th>\n    </tr>\n  </thead>\n  <tbody>\n    <tr>\n      <th>0</th>\n      <td>1</td>\n      <td>c:1</td>\n      <td>1</td>\n      <td>NaN</td>\n      <td>Seattle</td>\n      <td>710 - 2nd Avenue</td>\n      <td>Suite 1100</td>\n      <td>Seattle</td>\n      <td>98104</td>\n      <td>WA</td>\n      <td>USA</td>\n      <td>47.603122</td>\n      <td>-122.333253</td>\n      <td>NaN</td>\n      <td>NaN</td>\n    </tr>\n    <tr>\n      <th>1</th>\n      <td>2</td>\n      <td>c:3</td>\n      <td>3</td>\n      <td>Headquarters</td>\n      <td>SF Bay</td>\n      <td>4900 Hopyard Rd</td>\n      <td>Suite 310</td>\n      <td>Pleasanton</td>\n      <td>94588</td>\n      <td>CA</td>\n      <td>USA</td>\n      <td>37.692934</td>\n      <td>-121.904945</td>\n      <td>NaN</td>\n      <td>NaN</td>\n    </tr>\n    <tr>\n      <th>2</th>\n      <td>3</td>\n      <td>c:4</td>\n      <td>4</td>\n      <td>NaN</td>\n      <td>SF Bay</td>\n      <td>135 Mississippi St</td>\n      <td>NaN</td>\n      <td>San Francisco</td>\n      <td>94107</td>\n      <td>CA</td>\n      <td>USA</td>\n      <td>37.764726</td>\n      <td>-122.394523</td>\n      <td>NaN</td>\n      <td>NaN</td>\n    </tr>\n    <tr>\n      <th>3</th>\n      <td>4</td>\n      <td>c:5</td>\n      <td>5</td>\n      <td>Headquarters</td>\n      <td>SF Bay</td>\n      <td>1601 Willow Road</td>\n      <td>NaN</td>\n      <td>Menlo Park</td>\n      <td>94025</td>\n      <td>CA</td>\n      <td>USA</td>\n      <td>37.416050</td>\n      <td>-122.151801</td>\n      <td>NaN</td>\n      <td>NaN</td>\n    </tr>\n    <tr>\n      <th>4</th>\n      <td>5</td>\n      <td>c:7</td>\n      <td>7</td>\n      <td>NaN</td>\n      <td>SF Bay</td>\n      <td>Suite 200</td>\n      <td>654 High Street</td>\n      <td>Palo Alto</td>\n      <td>94301</td>\n      <td>CA</td>\n      <td>ISR</td>\n      <td>0.000000</td>\n      <td>0.000000</td>\n      <td>NaN</td>\n      <td>NaN</td>\n    </tr>\n  </tbody>\n</table>\n</div>"
     },
     "execution_count": 23,
     "metadata": {},
     "output_type": "execute_result"
    }
   ],
   "source": [
    "offices_df.head()"
   ],
   "metadata": {
    "collapsed": false,
    "pycharm": {
     "name": "#%%\n"
    }
   }
  },
  {
   "cell_type": "code",
   "execution_count": 24,
   "outputs": [],
   "source": [
    "acquirers_offices = pd.merge(offices_df, acquirers_df, left_on=\"object_id\", right_on=\"id\")"
   ],
   "metadata": {
    "collapsed": false,
    "pycharm": {
     "name": "#%%\n"
    }
   }
  },
  {
   "cell_type": "code",
   "execution_count": 25,
   "outputs": [],
   "source": [
    "acquirers_offices.drop_duplicates(inplace=True)"
   ],
   "metadata": {
    "collapsed": false,
    "pycharm": {
     "name": "#%%\n"
    }
   }
  },
  {
   "cell_type": "code",
   "execution_count": 26,
   "outputs": [],
   "source": [
    "acquirers_number_offices = acquirers_offices.groupby(\"object_id\").count()[\"office_id\"].to_frame(\"number_of_offices\")"
   ],
   "metadata": {
    "collapsed": false,
    "pycharm": {
     "name": "#%%\n"
    }
   }
  },
  {
   "cell_type": "code",
   "execution_count": 27,
   "outputs": [],
   "source": [
    "acquirers_df = pd.merge(acquirers_df, acquirers_number_offices, how=\"left\", left_on=\"id\", right_on=\"object_id\")"
   ],
   "metadata": {
    "collapsed": false,
    "pycharm": {
     "name": "#%%\n"
    }
   }
  },
  {
   "cell_type": "markdown",
   "source": [
    "## 4.2 Acquired offices"
   ],
   "metadata": {
    "collapsed": false,
    "pycharm": {
     "name": "#%% md\n"
    }
   }
  },
  {
   "cell_type": "code",
   "execution_count": 28,
   "outputs": [],
   "source": [
    "acquired_offices = pd.merge(offices_df, acquired_df, left_on=\"object_id\", right_on=\"id\")"
   ],
   "metadata": {
    "collapsed": false,
    "pycharm": {
     "name": "#%%\n"
    }
   }
  },
  {
   "cell_type": "code",
   "execution_count": 29,
   "outputs": [],
   "source": [
    "acquired_offices.drop_duplicates(inplace=True)"
   ],
   "metadata": {
    "collapsed": false,
    "pycharm": {
     "name": "#%%\n"
    }
   }
  },
  {
   "cell_type": "code",
   "execution_count": 30,
   "outputs": [],
   "source": [
    "acquired_number_offices = acquired_offices.groupby(\"object_id\").count()[\"office_id\"].to_frame(\"number_of_offices\")"
   ],
   "metadata": {
    "collapsed": false,
    "pycharm": {
     "name": "#%%\n"
    }
   }
  },
  {
   "cell_type": "code",
   "execution_count": 31,
   "outputs": [],
   "source": [
    "acquired_df = pd.merge(acquired_df, acquired_number_offices, how=\"left\", left_on=\"id\", right_on=\"object_id\")"
   ],
   "metadata": {
    "collapsed": false,
    "pycharm": {
     "name": "#%%\n"
    }
   }
  },
  {
   "cell_type": "markdown",
   "source": [
    "# 5. Relationships, founders and degree"
   ],
   "metadata": {
    "collapsed": false
   }
  },
  {
   "cell_type": "markdown",
   "source": [
    "We have 1737 companies with at least one relationship (the number of relationships is already in the dataset)\n",
    "We also are able to retrieve 1361 founders, of these founders we can get the degree"
   ],
   "metadata": {
    "collapsed": false
   }
  },
  {
   "cell_type": "code",
   "execution_count": 32,
   "outputs": [],
   "source": [
    "relations = pd.merge(relationships_df, acquired_df, left_on=\"relationship_object_id\", right_on=\"id\")"
   ],
   "metadata": {
    "collapsed": false,
    "pycharm": {
     "name": "#%%\n"
    }
   }
  },
  {
   "cell_type": "code",
   "execution_count": 33,
   "outputs": [
    {
     "data": {
      "text/plain": "1361"
     },
     "execution_count": 33,
     "metadata": {},
     "output_type": "execute_result"
    }
   ],
   "source": [
    "relations[\"title\"].str.contains(\"founder|Founder\").sum()"
   ],
   "metadata": {
    "collapsed": false,
    "pycharm": {
     "name": "#%%\n"
    }
   }
  },
  {
   "cell_type": "code",
   "execution_count": 34,
   "outputs": [],
   "source": [
    "founders = relations[relations[\"title\"].str.contains(\"founder|Founder\") == True][[\"person_object_id\", 'relationship_object_id', \"title\"]]"
   ],
   "metadata": {
    "collapsed": false,
    "pycharm": {
     "name": "#%%\n"
    }
   }
  },
  {
   "cell_type": "code",
   "execution_count": 35,
   "outputs": [
    {
     "data": {
      "text/plain": "(1361, 3)"
     },
     "execution_count": 35,
     "metadata": {},
     "output_type": "execute_result"
    }
   ],
   "source": [
    "founders.shape"
   ],
   "metadata": {
    "collapsed": false,
    "pycharm": {
     "name": "#%%\n"
    }
   }
  },
  {
   "cell_type": "code",
   "execution_count": 36,
   "outputs": [],
   "source": [
    "founders_degree = pd.merge(founders, degrees_df, left_on=\"person_object_id\", right_on=\"object_id\")[[\"person_object_id\", 'relationship_object_id', \"title\",\n",
    "                                                                                                    \"degree_type\", \"institution\"]]"
   ],
   "metadata": {
    "collapsed": false,
    "pycharm": {
     "name": "#%%\n"
    }
   }
  },
  {
   "cell_type": "code",
   "execution_count": 37,
   "outputs": [],
   "source": [
    "# mapping used to retrieve the degree\n",
    "# the degree columns has many different values with similar meaning, these will be grouped together\n",
    "def get_degree(degrees):\n",
    "    # PhD\n",
    "    if any(\"PhD\" in x for x in degrees):\n",
    "        return \"PhD\"\n",
    "    if any(\"Ph.D.\" in x for x in degrees):\n",
    "        return \"PhD\"\n",
    "\n",
    "    # MBA\n",
    "    if any(\"MBA\" in x for x in degrees):\n",
    "        return  \"MBA\"\n",
    "\n",
    "    # Master\n",
    "    if any(\"MS\" in x for x in degrees):\n",
    "        return  \"Master\"\n",
    "    if any(\"MA\" in x for x in degrees):\n",
    "        return  \"Master\"\n",
    "    if any(\"LLM\" in x for x in degrees):\n",
    "        return  \"Master\"\n",
    "    if any(\"JD\" in x for x in degrees):\n",
    "        return  \"Master\"\n",
    "    if any(\"M.Eng\" in x for x in degrees):\n",
    "        return  \"Master\"\n",
    "    if any(\"MD\" in x for x in degrees):\n",
    "        return  \"Master\"\n",
    "    if any(\"MSE\" in x for x in degrees):\n",
    "        return  \"Master\"\n",
    "    if any(\"ML\" in x for x in degrees):\n",
    "        return  \"Master\"\n",
    "\n",
    "    # Bachelor\n",
    "    if any(\"BS\" in x for x in degrees):\n",
    "        return  \"Bachelor\"\n",
    "    if any(\"BA\" in x for x in degrees):\n",
    "        return  \"Bachelor\"\n",
    "    if any(\"LLB\" in x for x in degrees):\n",
    "        return  \"Bachelor\"\n",
    "    if any(\"BE\" in x for x in degrees):\n",
    "        return  \"Bachelor\"\n",
    "    if any(\"BTECH\" in x for x in degrees):\n",
    "        return  \"Bachelor\"\n",
    "    if any(\"BBS\" in x for x in degrees):\n",
    "        return  \"Bachelor\"\n",
    "    if any(\"BBA\" in x for x in degrees):\n",
    "        return  \"Bachelor\"\n",
    "    if any(\"BFA\" in x for x in degrees):\n",
    "        return  \"Bachelor\"\n",
    "\n",
    "    # Other\n",
    "    else:\n",
    "        return \"unknown\""
   ],
   "metadata": {
    "collapsed": false,
    "pycharm": {
     "name": "#%%\n"
    }
   }
  },
  {
   "cell_type": "code",
   "execution_count": 38,
   "outputs": [],
   "source": [
    "founders_degree = founders_degree.groupby(\"relationship_object_id\").agg({\"degree_type\": list})"
   ],
   "metadata": {
    "collapsed": false,
    "pycharm": {
     "name": "#%%\n"
    }
   }
  },
  {
   "cell_type": "code",
   "execution_count": 39,
   "outputs": [],
   "source": [
    "founders_degree = founders_degree.apply(get_degree, axis=1).to_frame(\"highest_degree_founder\")"
   ],
   "metadata": {
    "collapsed": false,
    "pycharm": {
     "name": "#%%\n"
    }
   }
  },
  {
   "cell_type": "code",
   "execution_count": 40,
   "outputs": [],
   "source": [
    "acquired_df = pd.merge(acquired_df, founders_degree, how=\"left\", left_on=\"id\", right_on=\"relationship_object_id\")"
   ],
   "metadata": {
    "collapsed": false,
    "pycharm": {
     "name": "#%%\n"
    }
   }
  },
  {
   "cell_type": "markdown",
   "source": [
    "# 6. The final dataset"
   ],
   "metadata": {
    "collapsed": false
   }
  },
  {
   "cell_type": "markdown",
   "source": [
    "Create the final dataset containing all the deals with a price higher than 0\n",
    "To this data we have linked information from the acquirer and acquired companies"
   ],
   "metadata": {
    "collapsed": false,
    "pycharm": {
     "name": "#%% md\n"
    }
   }
  },
  {
   "cell_type": "code",
   "execution_count": 41,
   "outputs": [],
   "source": [
    "df = pd.merge(df, acquirers_df, left_on=\"acquiring_object_id\", right_on=\"id\")"
   ],
   "metadata": {
    "collapsed": false,
    "pycharm": {
     "name": "#%%\n"
    }
   }
  },
  {
   "cell_type": "code",
   "execution_count": 42,
   "outputs": [],
   "source": [
    "df = pd.merge(df, acquired_df, left_on=\"acquired_object_id\", right_on=\"id\")"
   ],
   "metadata": {
    "collapsed": false,
    "pycharm": {
     "name": "#%%\n"
    }
   }
  },
  {
   "cell_type": "code",
   "execution_count": 43,
   "outputs": [
    {
     "data": {
      "text/plain": "(21335, 35)"
     },
     "execution_count": 43,
     "metadata": {},
     "output_type": "execute_result"
    }
   ],
   "source": [
    "df.shape"
   ],
   "metadata": {
    "collapsed": false,
    "pycharm": {
     "name": "#%%\n"
    }
   }
  },
  {
   "cell_type": "code",
   "execution_count": 44,
   "outputs": [],
   "source": [
    "df.drop_duplicates(inplace=True)"
   ],
   "metadata": {
    "collapsed": false,
    "pycharm": {
     "name": "#%%\n"
    }
   }
  },
  {
   "cell_type": "code",
   "execution_count": 45,
   "outputs": [],
   "source": [
    "df = df[['price_amount', 'price_currency_code', 'acquired_at','name_x', 'category_code_x', 'country_code_x', 'region_x', 'investment_rounds_x', 'invested_companies_x',\n",
    "         'funding_rounds_x', 'funding_total_usd_x', 'milestones_x', 'relationships_x', 'founded_year_x', 'number_of_offices_x',\n",
    "         'name_y', 'category_code_y','country_code_y', 'region_y', 'investment_rounds_y', 'invested_companies_y', 'funding_rounds_y', 'funding_total_usd_y', 'milestones_y',\n",
    "         'relationships_y', 'founded_year_y', 'number_of_investors', 'highest_degree_founder', 'number_of_offices_y'\n",
    "]]"
   ],
   "metadata": {
    "collapsed": false,
    "pycharm": {
     "name": "#%%\n"
    }
   }
  },
  {
   "cell_type": "code",
   "execution_count": 46,
   "outputs": [],
   "source": [
    "rename = {\n",
    "    \"name_x\": \"name_acquirer\",\n",
    "    \"category_code_x\": \"acquirer_industry\",\n",
    "    \"country_code_x\": \"acquirer_country\",\n",
    "    \"region_x\": \"acquirer_region\",\n",
    "    \"investment_rounds_x\": \"acquirer_investment_rounds\",\n",
    "    \"invested_companies_x\": \"acquirer_invested_companies\",\n",
    "    \"funding_rounds_x\": \"acquirer_funding_rounds\",\n",
    "    \"funding_total_usd_x\": \"acquirer_total_funding\",\n",
    "    \"milestones_x\": \"acquirer_milestones\",\n",
    "    \"relationships_x\": \"acquirer_relationships\",\n",
    "    \"founded_year_x\": \"acquirer_founded_year\",\n",
    "    \"number_of_offices_x\": \"acquirer_offices\",\n",
    "\n",
    "\n",
    "    \"name_y\": \"name_acquired\",\n",
    "    \"category_code_y\": \"acquired_industry\",\n",
    "    \"country_code_y\": \"acquired_country\",\n",
    "    \"region_y\": \"acquired_region\",\n",
    "    \"investment_rounds_y\": \"acquired_investment_rounds\",\n",
    "    \"invested_companies_y\": \"acquired_invested_companies\",\n",
    "    \"funding_rounds_y\": \"acquired_funding_rounds\",\n",
    "    \"funding_total_usd_y\": \"acquired_total_funding\",\n",
    "    \"milestones_y\": \"acquired_milestones\",\n",
    "    \"relationships_y\": \"acquired_relationships\",\n",
    "    \"founded_year_y\": \"acquired_founded_year\",\n",
    "    \"number_of_investors\": \"funds_backing_acquired\",\n",
    "    \"number_of_offices_y\": \"acquired_offices\",\n",
    "}"
   ],
   "metadata": {
    "collapsed": false,
    "pycharm": {
     "name": "#%%\n"
    }
   }
  },
  {
   "cell_type": "code",
   "execution_count": 47,
   "outputs": [],
   "source": [
    "df = df.rename(columns=rename).reset_index(drop=True)"
   ],
   "metadata": {
    "collapsed": false,
    "pycharm": {
     "name": "#%%\n"
    }
   }
  },
  {
   "cell_type": "code",
   "execution_count": 48,
   "outputs": [],
   "source": [
    "df.to_csv(r\"C:\\Users\\32474\\Documents\\Ma TEW\\masterthesis\\data\\merged_data.csv\")"
   ],
   "metadata": {
    "collapsed": false,
    "pycharm": {
     "name": "#%%\n"
    }
   }
  }
 ],
 "metadata": {
  "kernelspec": {
   "display_name": "Python 3",
   "language": "python",
   "name": "python3"
  },
  "language_info": {
   "codemirror_mode": {
    "name": "ipython",
    "version": 2
   },
   "file_extension": ".py",
   "mimetype": "text/x-python",
   "name": "python",
   "nbconvert_exporter": "python",
   "pygments_lexer": "ipython2",
   "version": "2.7.6"
  }
 },
 "nbformat": 4,
 "nbformat_minor": 0
}