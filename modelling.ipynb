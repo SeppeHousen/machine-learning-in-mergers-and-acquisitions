{
 "cells": [
  {
   "cell_type": "markdown",
   "metadata": {
    "collapsed": true,
    "pycharm": {
     "name": "#%% md\n"
    }
   },
   "source": [
    "# 0. Intoduction"
   ]
  },
  {
   "cell_type": "markdown",
   "source": [
    "This notebook will evaluates different ML models for prediction M&A deal prices\n",
    "we will compare\n",
    "- Linear Regression\n",
    "- SVM\n",
    "- XGBoost\n",
    "\n",
    "\n",
    "note that this notebook can also be run with the dummy-dataset to get the results on the dummy-coded variables"
   ],
   "metadata": {
    "collapsed": false,
    "pycharm": {
     "name": "#%% md\n"
    }
   }
  },
  {
   "cell_type": "code",
   "execution_count": 1,
   "outputs": [],
   "source": [
    "import pickle\n",
    "import pandas as pd\n",
    "import numpy as np\n",
    "from datetime import datetime\n",
    "from scipy.stats import loguniform, randint\n",
    "from sklearn.pipeline import Pipeline\n",
    "from sklearn.model_selection import train_test_split\n",
    "from sklearn.model_selection import RandomizedSearchCV\n",
    "from sklearn.model_selection import cross_val_score\n",
    "from sklearn.preprocessing import StandardScaler\n",
    "from sklearn.metrics import mean_absolute_error\n",
    "from sklearn.model_selection import KFold\n",
    "\n",
    "from sklearn.linear_model import LinearRegression\n",
    "from sklearn.dummy import DummyRegressor\n",
    "from sklearn.svm import SVR\n",
    "from xgboost import XGBRegressor"
   ],
   "metadata": {
    "collapsed": false,
    "pycharm": {
     "name": "#%%\n"
    }
   }
  },
  {
   "cell_type": "code",
   "execution_count": 2,
   "outputs": [],
   "source": [
    "df = pd.read_excel(r\"C:\\Users\\32474\\Documents\\Ma TEW\\masterthesis\\data\\modelling_data.xlsx\")"
   ],
   "metadata": {
    "collapsed": false,
    "pycharm": {
     "name": "#%%\n"
    }
   }
  },
  {
   "cell_type": "code",
   "execution_count": 3,
   "outputs": [],
   "source": [
    "df.drop(\"Unnamed: 0\", axis=1, inplace=True)"
   ],
   "metadata": {
    "collapsed": false,
    "pycharm": {
     "name": "#%%\n"
    }
   }
  },
  {
   "cell_type": "code",
   "execution_count": 4,
   "outputs": [
    {
     "data": {
      "text/plain": "      log_deal_price   deal_price  acquirer_investment_rounds  \\\n2473       18.370608     95116040                           0   \n2474       21.639557   2500000000                           0   \n2475       19.218188    222000000                           0   \n2476       23.981362  26000000000                           5   \n2477       17.567365     42600000                           0   \n\n      acquirer_funding_rounds  acquirer_milestones  acquirer_relationships  \\\n2473                        0                    0                       1   \n2474                        0                    0                       3   \n2475                        0                    0                       5   \n2476                        0                    2                      14   \n2477                        5                    5                      21   \n\n      acquirer_founded_year  acquirer_offices  acquirer_is_usa  \\\n2473                   1980                 1                0   \n2474                   1985                 1                0   \n2475                   1994                 1                1   \n2476                   1985                 1                1   \n2477                   2005                 1                1   \n\n      acquirer_is_bay  ...  acquired_sector_communication  \\\n2473                0  ...                              0   \n2474                0  ...                              0   \n2475                0  ...                              0   \n2476                0  ...                              0   \n2477                0  ...                              1   \n\n      acquired_sector_consumer_discretionary  acquired_sector_financials  \\\n2473                                       0                           0   \n2474                                       0                           0   \n2475                                       0                           0   \n2476                                       0                           0   \n2477                                       0                           0   \n\n      acquired_sector_health_care  acquired_sector_industrials  \\\n2473                            0                            0   \n2474                            0                            0   \n2475                            1                            0   \n2476                            0                            0   \n2477                            0                            0   \n\n      acquired_sector_other  acquired_age  acquisition_year  same_country  \\\n2473                      0             5              2013             0   \n2474                      1            13              2013             0   \n2475                      0            13              2013             1   \n2476                      1             7              2007             0   \n2477                      0             2              2013             1   \n\n      same_sector  \n2473            1  \n2474            1  \n2475            1  \n2476            0  \n2477            0  \n\n[5 rows x 40 columns]",
      "text/html": "<div>\n<style scoped>\n    .dataframe tbody tr th:only-of-type {\n        vertical-align: middle;\n    }\n\n    .dataframe tbody tr th {\n        vertical-align: top;\n    }\n\n    .dataframe thead th {\n        text-align: right;\n    }\n</style>\n<table border=\"1\" class=\"dataframe\">\n  <thead>\n    <tr style=\"text-align: right;\">\n      <th></th>\n      <th>log_deal_price</th>\n      <th>deal_price</th>\n      <th>acquirer_investment_rounds</th>\n      <th>acquirer_funding_rounds</th>\n      <th>acquirer_milestones</th>\n      <th>acquirer_relationships</th>\n      <th>acquirer_founded_year</th>\n      <th>acquirer_offices</th>\n      <th>acquirer_is_usa</th>\n      <th>acquirer_is_bay</th>\n      <th>...</th>\n      <th>acquired_sector_communication</th>\n      <th>acquired_sector_consumer_discretionary</th>\n      <th>acquired_sector_financials</th>\n      <th>acquired_sector_health_care</th>\n      <th>acquired_sector_industrials</th>\n      <th>acquired_sector_other</th>\n      <th>acquired_age</th>\n      <th>acquisition_year</th>\n      <th>same_country</th>\n      <th>same_sector</th>\n    </tr>\n  </thead>\n  <tbody>\n    <tr>\n      <th>2473</th>\n      <td>18.370608</td>\n      <td>95116040</td>\n      <td>0</td>\n      <td>0</td>\n      <td>0</td>\n      <td>1</td>\n      <td>1980</td>\n      <td>1</td>\n      <td>0</td>\n      <td>0</td>\n      <td>...</td>\n      <td>0</td>\n      <td>0</td>\n      <td>0</td>\n      <td>0</td>\n      <td>0</td>\n      <td>0</td>\n      <td>5</td>\n      <td>2013</td>\n      <td>0</td>\n      <td>1</td>\n    </tr>\n    <tr>\n      <th>2474</th>\n      <td>21.639557</td>\n      <td>2500000000</td>\n      <td>0</td>\n      <td>0</td>\n      <td>0</td>\n      <td>3</td>\n      <td>1985</td>\n      <td>1</td>\n      <td>0</td>\n      <td>0</td>\n      <td>...</td>\n      <td>0</td>\n      <td>0</td>\n      <td>0</td>\n      <td>0</td>\n      <td>0</td>\n      <td>1</td>\n      <td>13</td>\n      <td>2013</td>\n      <td>0</td>\n      <td>1</td>\n    </tr>\n    <tr>\n      <th>2475</th>\n      <td>19.218188</td>\n      <td>222000000</td>\n      <td>0</td>\n      <td>0</td>\n      <td>0</td>\n      <td>5</td>\n      <td>1994</td>\n      <td>1</td>\n      <td>1</td>\n      <td>0</td>\n      <td>...</td>\n      <td>0</td>\n      <td>0</td>\n      <td>0</td>\n      <td>1</td>\n      <td>0</td>\n      <td>0</td>\n      <td>13</td>\n      <td>2013</td>\n      <td>1</td>\n      <td>1</td>\n    </tr>\n    <tr>\n      <th>2476</th>\n      <td>23.981362</td>\n      <td>26000000000</td>\n      <td>5</td>\n      <td>0</td>\n      <td>2</td>\n      <td>14</td>\n      <td>1985</td>\n      <td>1</td>\n      <td>1</td>\n      <td>0</td>\n      <td>...</td>\n      <td>0</td>\n      <td>0</td>\n      <td>0</td>\n      <td>0</td>\n      <td>0</td>\n      <td>1</td>\n      <td>7</td>\n      <td>2007</td>\n      <td>0</td>\n      <td>0</td>\n    </tr>\n    <tr>\n      <th>2477</th>\n      <td>17.567365</td>\n      <td>42600000</td>\n      <td>0</td>\n      <td>5</td>\n      <td>5</td>\n      <td>21</td>\n      <td>2005</td>\n      <td>1</td>\n      <td>1</td>\n      <td>0</td>\n      <td>...</td>\n      <td>1</td>\n      <td>0</td>\n      <td>0</td>\n      <td>0</td>\n      <td>0</td>\n      <td>0</td>\n      <td>2</td>\n      <td>2013</td>\n      <td>1</td>\n      <td>0</td>\n    </tr>\n  </tbody>\n</table>\n<p>5 rows × 40 columns</p>\n</div>"
     },
     "execution_count": 4,
     "metadata": {},
     "output_type": "execute_result"
    }
   ],
   "source": [
    "df.tail()"
   ],
   "metadata": {
    "collapsed": false,
    "pycharm": {
     "name": "#%%\n"
    }
   }
  },
  {
   "cell_type": "code",
   "execution_count": 5,
   "outputs": [],
   "source": [
    "# Timer function to record our training times\n",
    "def timer(start_time=None):\n",
    "    if not start_time:\n",
    "        start_time = datetime.now()\n",
    "        return start_time\n",
    "    elif start_time:\n",
    "        thour, temp_sec = divmod((datetime.now() - start_time).total_seconds(), 3600)\n",
    "        tmin, tsec = divmod(temp_sec, 60)\n",
    "        print('\\n Time taken: %i hours %i minutes and %s seconds.' % (thour, tmin, round(tsec, 2)))"
   ],
   "metadata": {
    "collapsed": false,
    "pycharm": {
     "name": "#%%\n"
    }
   }
  },
  {
   "cell_type": "markdown",
   "source": [
    "# 1. preprocessing"
   ],
   "metadata": {
    "collapsed": false,
    "pycharm": {
     "name": "#%% md\n"
    }
   }
  },
  {
   "cell_type": "code",
   "execution_count": 6,
   "outputs": [],
   "source": [
    "# select all the row other than deal price as independent variables\n",
    "X = df.iloc[:, 2:]\n",
    "# select log deal price as target\n",
    "y = df.iloc[:, 1] # standard deal price\n",
    "y_log = df.iloc[:, 0] # log scaled deal price"
   ],
   "metadata": {
    "collapsed": false,
    "pycharm": {
     "name": "#%%\n"
    }
   }
  },
  {
   "cell_type": "code",
   "execution_count": 7,
   "outputs": [],
   "source": [
    "# create a train test split\n",
    "X_train, X_test, y_train, y_test = train_test_split(X, y, test_size=0.2, random_state=42)"
   ],
   "metadata": {
    "collapsed": false,
    "pycharm": {
     "name": "#%%\n"
    }
   }
  },
  {
   "cell_type": "code",
   "execution_count": 8,
   "outputs": [],
   "source": [
    "# select the same train test cases for y_log\n",
    "y_log_train = y_log[y_train.index]\n",
    "y_log_test = y_log[y_test.index]"
   ],
   "metadata": {
    "collapsed": false,
    "pycharm": {
     "name": "#%%\n"
    }
   }
  },
  {
   "cell_type": "code",
   "execution_count": 9,
   "outputs": [],
   "source": [
    "# # transform the data to be zero-mean and unit-variance normalized\n",
    "# ss = StandardScaler()\n",
    "# ss.fit(X_train)\n",
    "# X_train_trans = ss.transform(X_train)\n",
    "# X_test_trans = ss.transform(X_test)"
   ],
   "metadata": {
    "collapsed": false,
    "pycharm": {
     "name": "#%%\n"
    }
   }
  },
  {
   "cell_type": "markdown",
   "source": [
    "# 2. modelling"
   ],
   "metadata": {
    "collapsed": false,
    "pycharm": {
     "name": "#%% md\n"
    }
   }
  },
  {
   "cell_type": "markdown",
   "source": [
    "# 2.1. Dummy regressor"
   ],
   "metadata": {
    "collapsed": false,
    "pycharm": {
     "name": "#%% md\n"
    }
   }
  },
  {
   "cell_type": "code",
   "execution_count": 10,
   "outputs": [
    {
     "data": {
      "text/plain": "548240940.0"
     },
     "execution_count": 10,
     "metadata": {},
     "output_type": "execute_result"
    }
   ],
   "source": [
    "# plot the average score of a basic mean prediction\n",
    "np.mean(abs(cross_val_score(DummyRegressor(), X_train, y_train, cv=5, scoring=\"neg_mean_absolute_error\"))).round(0)"
   ],
   "metadata": {
    "collapsed": false,
    "pycharm": {
     "name": "#%%\n"
    }
   }
  },
  {
   "cell_type": "code",
   "execution_count": 11,
   "outputs": [
    {
     "data": {
      "text/plain": "730325845.958947"
     },
     "execution_count": 11,
     "metadata": {},
     "output_type": "execute_result"
    }
   ],
   "source": [
    "# test the dummy regression model on the test set\n",
    "dummy = DummyRegressor()\n",
    "dummy.fit(X_train, y_train)\n",
    "dummy_pred = dummy.predict(X_test)\n",
    "mean_absolute_error(y_test, dummy_pred)"
   ],
   "metadata": {
    "collapsed": false,
    "pycharm": {
     "name": "#%%\n"
    }
   }
  },
  {
   "cell_type": "markdown",
   "source": [
    "## 2.2. Linear Regression"
   ],
   "metadata": {
    "collapsed": false,
    "pycharm": {
     "name": "#%% md\n"
    }
   }
  },
  {
   "cell_type": "code",
   "execution_count": 12,
   "outputs": [],
   "source": [
    "# create a pipeline combining the scaling and the OLS"
   ],
   "metadata": {
    "collapsed": false,
    "pycharm": {
     "name": "#%%\n"
    }
   }
  },
  {
   "cell_type": "code",
   "execution_count": 13,
   "outputs": [],
   "source": [
    "lr_pipe = Pipeline([('scaler', StandardScaler()), ('lr', LinearRegression())])"
   ],
   "metadata": {
    "collapsed": false,
    "pycharm": {
     "name": "#%%\n"
    }
   }
  },
  {
   "cell_type": "markdown",
   "source": [
    "### 2.2.1. Log scaled"
   ],
   "metadata": {
    "collapsed": false,
    "pycharm": {
     "name": "#%% md\n"
    }
   }
  },
  {
   "cell_type": "code",
   "execution_count": 14,
   "outputs": [],
   "source": [
    "# use cross validation to fit the model on the log prices, but get scores in terms of normal prices\n",
    "kf = KFold(n_splits=5)\n",
    "score = []\n",
    "for train_index, test_index in kf.split(X_train):\n",
    "    lr_pipe.fit(X_train.loc[X_train.index[train_index]], y_log_train.loc[y_log_train.index[train_index]])\n",
    "    log_pred = lr_pipe.predict(X_train.loc[X_train.index[test_index]])\n",
    "    pred = np.exp(log_pred)\n",
    "    score.append(mean_absolute_error(y_train.loc[y_train.index[test_index]], pred))"
   ],
   "metadata": {
    "collapsed": false,
    "pycharm": {
     "name": "#%%\n"
    }
   }
  },
  {
   "cell_type": "code",
   "execution_count": 15,
   "outputs": [
    {
     "data": {
      "text/plain": "170230580368.0"
     },
     "execution_count": 15,
     "metadata": {},
     "output_type": "execute_result"
    }
   ],
   "source": [
    "np.mean(score).round(0)"
   ],
   "metadata": {
    "collapsed": false,
    "pycharm": {
     "name": "#%%\n"
    }
   }
  },
  {
   "cell_type": "code",
   "execution_count": 16,
   "outputs": [],
   "source": [
    "kf = KFold(n_splits=5)\n",
    "score = []\n",
    "for train_index, test_index in kf.split(X_train):\n",
    "    lr_pipe.fit(X_train.loc[X_train.index[train_index]], y_log_train.loc[y_log_train.index[train_index]])\n",
    "    log_pred = lr_pipe.predict(X_train.loc[X_train.index[test_index]])\n",
    "    score.append(mean_absolute_error(y_log_train.loc[y_train.index[test_index]], log_pred))"
   ],
   "metadata": {
    "collapsed": false,
    "pycharm": {
     "name": "#%%\n"
    }
   }
  },
  {
   "cell_type": "markdown",
   "source": [
    "### 2.1.2. Not log scaled"
   ],
   "metadata": {
    "collapsed": false,
    "pycharm": {
     "name": "#%% md\n"
    }
   }
  },
  {
   "cell_type": "code",
   "execution_count": 16,
   "outputs": [
    {
     "data": {
      "text/plain": "545626170.0"
     },
     "execution_count": 16,
     "metadata": {},
     "output_type": "execute_result"
    }
   ],
   "source": [
    "np.mean(abs(cross_val_score(lr_pipe, X_train, y_train, cv=5, scoring=\"neg_mean_absolute_error\"))).round(0)"
   ],
   "metadata": {
    "collapsed": false,
    "pycharm": {
     "name": "#%%\n"
    }
   }
  },
  {
   "cell_type": "code",
   "execution_count": null,
   "outputs": [],
   "source": [
    "# train the OLS model\n",
    "lr_pipe.fit(X_train, y_train)"
   ],
   "metadata": {
    "collapsed": false,
    "pycharm": {
     "name": "#%%\n"
    }
   }
  },
  {
   "cell_type": "code",
   "execution_count": 17,
   "outputs": [],
   "source": [
    "# save this model\n",
    "pickle.dump(lr_pipe, open(\"lr_model3.sav\", \"wb\"))"
   ],
   "metadata": {
    "collapsed": false,
    "pycharm": {
     "name": "#%%\n"
    }
   }
  },
  {
   "cell_type": "code",
   "execution_count": 18,
   "outputs": [
    {
     "data": {
      "text/plain": "589108955.7166886"
     },
     "execution_count": 18,
     "metadata": {},
     "output_type": "execute_result"
    }
   ],
   "source": [
    "# test the OLS model on the test set\n",
    "lr_pred = lr_pipe.predict(X_test)\n",
    "mean_absolute_error(y_test, lr_pred)"
   ],
   "metadata": {
    "collapsed": false,
    "pycharm": {
     "name": "#%%\n"
    }
   }
  },
  {
   "cell_type": "markdown",
   "source": [
    "## 2.2. SVM"
   ],
   "metadata": {
    "collapsed": false,
    "pycharm": {
     "name": "#%% md\n"
    }
   }
  },
  {
   "cell_type": "code",
   "execution_count": null,
   "outputs": [],
   "source": [
    "svr_pipe = Pipeline([('scaler', StandardScaler()), ('svr', SVR())])"
   ],
   "metadata": {
    "collapsed": false,
    "pycharm": {
     "name": "#%%\n"
    }
   }
  },
  {
   "cell_type": "code",
   "execution_count": 22,
   "outputs": [],
   "source": [
    "param_svr = {\n",
    "    \"svr__kernel\": [\"linear\", \"rbf\", \"sigmoid\"],\n",
    "    \"svr__gamma\": loguniform(1e-5, 1e0),\n",
    "    \"svr__C\": loguniform(1e-2, 1e5),\n",
    "    \"svr__epsilon\":loguniform(1e-3, 1e2)\n",
    "}"
   ],
   "metadata": {
    "collapsed": false,
    "pycharm": {
     "name": "#%%\n"
    }
   }
  },
  {
   "cell_type": "code",
   "execution_count": 24,
   "outputs": [
    {
     "name": "stdout",
     "output_type": "stream",
     "text": [
      "Fitting 5 folds for each of 2000 candidates, totalling 10000 fits\n",
      "\n",
      " Time taken: 0 hours 3 minutes and 55.7 seconds.\n"
     ]
    }
   ],
   "source": [
    "svr_search = RandomizedSearchCV(estimator=svr_pipe, param_distributions=param_svr, n_iter=2000, scoring=\"neg_mean_absolute_error\",\n",
    "                                 cv=5, n_jobs=-1, verbose=2, random_state=33)\n",
    "svr_time = timer(None)\n",
    "svr_search.fit(X_train, y_train)\n",
    "timer(svr_time)"
   ],
   "metadata": {
    "collapsed": false,
    "pycharm": {
     "name": "#%%\n"
    }
   }
  },
  {
   "cell_type": "code",
   "execution_count": 28,
   "outputs": [
    {
     "data": {
      "text/plain": "Pipeline(steps=[('scaler', StandardScaler()),\n                ('svr',\n                 SVR(C=99784.06088169578, epsilon=0.02124500203044543,\n                     gamma=0.0007037942513643572, kernel='linear'))])"
     },
     "execution_count": 28,
     "metadata": {},
     "output_type": "execute_result"
    }
   ],
   "source": [
    "svr_search.best_estimator_"
   ],
   "metadata": {
    "collapsed": false,
    "pycharm": {
     "name": "#%%\n"
    }
   }
  },
  {
   "cell_type": "code",
   "execution_count": 26,
   "outputs": [
    {
     "name": "stdout",
     "output_type": "stream",
     "text": [
      "The SVR model obtains an average mae of 377218224.0\n"
     ]
    }
   ],
   "source": [
    "print(f\"The SVR model obtains an average mae of {abs(svr_search.best_score_).round(0)}\")"
   ],
   "metadata": {
    "collapsed": false,
    "pycharm": {
     "name": "#%%\n"
    }
   }
  },
  {
   "cell_type": "code",
   "execution_count": 29,
   "outputs": [],
   "source": [
    "# save this model\n",
    "pickle.dump(svr_search.best_estimator_, open(\"svr_model3.sav\", \"wb\"))"
   ],
   "metadata": {
    "collapsed": false,
    "pycharm": {
     "name": "#%%\n"
    }
   }
  },
  {
   "cell_type": "code",
   "execution_count": 34,
   "outputs": [
    {
     "data": {
      "text/plain": "551766971.0"
     },
     "execution_count": 34,
     "metadata": {},
     "output_type": "execute_result"
    }
   ],
   "source": [
    "abs(svr_search.score(X_test, y_test)).round(0)"
   ],
   "metadata": {
    "collapsed": false,
    "pycharm": {
     "name": "#%%\n"
    }
   }
  },
  {
   "cell_type": "markdown",
   "source": [
    "## 2.3. XGBoost"
   ],
   "metadata": {
    "collapsed": false,
    "pycharm": {
     "name": "#%% md\n"
    }
   }
  },
  {
   "cell_type": "code",
   "execution_count": 31,
   "outputs": [],
   "source": [
    "xgb_pipe = Pipeline([('scaler', StandardScaler()), ('xgb', XGBRegressor())])"
   ],
   "metadata": {
    "collapsed": false,
    "pycharm": {
     "name": "#%%\n"
    }
   }
  },
  {
   "cell_type": "code",
   "execution_count": 38,
   "outputs": [],
   "source": [
    "params_xgb = {\n",
    "    \"xgb__eta\": loguniform(0.01, 0.5),\n",
    "    \"xgb__gamma\": loguniform(1e-1, 1e3),\n",
    "    \"xgb__max_depth\": randint(1, 10),\n",
    "    \"xgb__min_child_weight\": randint(1, 10),\n",
    "    \"xgb__subsample\": [0.5, 0.75, 1],\n",
    "    \"xgb__colsample_bylevel\": [0.5, 0.75, 1],\n",
    "    \"xgb__lambda\": randint(1, 10)\n",
    "}"
   ],
   "metadata": {
    "collapsed": false,
    "pycharm": {
     "name": "#%%\n"
    }
   }
  },
  {
   "cell_type": "code",
   "execution_count": 39,
   "outputs": [
    {
     "name": "stdout",
     "output_type": "stream",
     "text": [
      "Fitting 5 folds for each of 2000 candidates, totalling 10000 fits\n",
      "\n",
      " Time taken: 0 hours 8 minutes and 1.75 seconds.\n"
     ]
    }
   ],
   "source": [
    "xgb_search = RandomizedSearchCV(estimator=xgb_pipe, param_distributions=params_xgb, n_iter=2000, scoring=\"neg_mean_absolute_error\",\n",
    "                                cv=5,n_jobs=-1, verbose=2, random_state=33)\n",
    "\n",
    "xgb_time = timer(None)\n",
    "xgb_search.fit(X_train, y_train)\n",
    "timer(xgb_time)"
   ],
   "metadata": {
    "collapsed": false,
    "pycharm": {
     "name": "#%%\n"
    }
   }
  },
  {
   "cell_type": "code",
   "execution_count": 42,
   "outputs": [
    {
     "data": {
      "text/plain": "{'xgb__colsample_bylevel': 0.5,\n 'xgb__eta': 0.014281468394888143,\n 'xgb__gamma': 32.94546149518965,\n 'xgb__lambda': 7,\n 'xgb__max_depth': 9,\n 'xgb__min_child_weight': 1,\n 'xgb__subsample': 0.5}"
     },
     "execution_count": 42,
     "metadata": {},
     "output_type": "execute_result"
    }
   ],
   "source": [
    "xgb_search.best_params_"
   ],
   "metadata": {
    "collapsed": false,
    "pycharm": {
     "name": "#%%\n"
    }
   }
  },
  {
   "cell_type": "code",
   "execution_count": 41,
   "outputs": [
    {
     "data": {
      "text/plain": "Pipeline(steps=[('scaler', StandardScaler()),\n                ('xgb',\n                 XGBRegressor(base_score=0.5, booster='gbtree',\n                              colsample_bylevel=0.5, colsample_bynode=1,\n                              colsample_bytree=1, enable_categorical=False,\n                              eta=0.014281468394888143, gamma=32.94546149518965,\n                              gpu_id=-1, importance_type=None,\n                              interaction_constraints='', lambda=7,\n                              learning_rate=0.0142814685, max_delta_step=0,\n                              max_depth=9, min_child_weight=1, missing=nan,\n                              monotone_constraints='()', n_estimators=100,\n                              n_jobs=16, num_parallel_tree=1, predictor='auto',\n                              random_state=0, reg_alpha=0, reg_lambda=7,\n                              scale_pos_weight=1, subsample=0.5,\n                              tree_method='exact', validate_parameters=1,\n                              verbosity=None))])"
     },
     "execution_count": 41,
     "metadata": {},
     "output_type": "execute_result"
    }
   ],
   "source": [
    "xgb_search.best_estimator_"
   ],
   "metadata": {
    "collapsed": false,
    "pycharm": {
     "name": "#%%\n"
    }
   }
  },
  {
   "cell_type": "code",
   "execution_count": 43,
   "outputs": [
    {
     "name": "stdout",
     "output_type": "stream",
     "text": [
      "The XGBoost model obtains an average mae of 354126647.0\n"
     ]
    }
   ],
   "source": [
    "print(f\"The XGBoost model obtains an average mae of {abs(xgb_search.best_score_).round(0)}\")"
   ],
   "metadata": {
    "collapsed": false,
    "pycharm": {
     "name": "#%%\n"
    }
   }
  },
  {
   "cell_type": "code",
   "execution_count": 44,
   "outputs": [],
   "source": [
    "# save this model\n",
    "pickle.dump(xgb_search.best_estimator_, open(\"xgb_model3.sav\", \"wb\"))"
   ],
   "metadata": {
    "collapsed": false,
    "pycharm": {
     "name": "#%%\n"
    }
   }
  },
  {
   "cell_type": "code",
   "execution_count": 45,
   "outputs": [
    {
     "data": {
      "text/plain": "528058600.0"
     },
     "execution_count": 45,
     "metadata": {},
     "output_type": "execute_result"
    }
   ],
   "source": [
    "abs(xgb_search.score(X_test, y_test)).round(0)"
   ],
   "metadata": {
    "collapsed": false,
    "pycharm": {
     "name": "#%%\n"
    }
   }
  }
 ],
 "metadata": {
  "kernelspec": {
   "display_name": "Python 3",
   "language": "python",
   "name": "python3"
  },
  "language_info": {
   "codemirror_mode": {
    "name": "ipython",
    "version": 2
   },
   "file_extension": ".py",
   "mimetype": "text/x-python",
   "name": "python",
   "nbconvert_exporter": "python",
   "pygments_lexer": "ipython2",
   "version": "2.7.6"
  }
 },
 "nbformat": 4,
 "nbformat_minor": 0
}