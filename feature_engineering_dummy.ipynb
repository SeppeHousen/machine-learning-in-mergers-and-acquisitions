{
 "cells": [
  {
   "cell_type": "markdown",
   "source": [
    "# 0. Introduction"
   ],
   "metadata": {
    "collapsed": false,
    "pycharm": {
     "name": "#%% md\n"
    }
   }
  },
  {
   "cell_type": "markdown",
   "source": [
    "This notebook creates dummy-variables for numeric variables that only have a few cases above one\n",
    "This dummy-variables dataset is than used to rerun the model-training to see if it can improve the results\n"
   ],
   "metadata": {
    "collapsed": false,
    "pycharm": {
     "name": "#%% md\n"
    }
   }
  },
  {
   "cell_type": "code",
   "execution_count": 1,
   "metadata": {
    "collapsed": true
   },
   "outputs": [],
   "source": [
    "import pandas as pd\n",
    "import numpy as np"
   ]
  },
  {
   "cell_type": "markdown",
   "source": [],
   "metadata": {
    "collapsed": false
   }
  },
  {
   "cell_type": "code",
   "execution_count": 2,
   "outputs": [],
   "source": [
    "df = pd.read_excel(r\"C:\\Users\\32474\\Documents\\Ma TEW\\masterthesis\\data\\modelling_data.xlsx\")\n",
    "df.drop('Unnamed: 0', axis=1, inplace=True)"
   ],
   "metadata": {
    "collapsed": false,
    "pycharm": {
     "name": "#%%\n"
    }
   }
  },
  {
   "cell_type": "markdown",
   "source": [
    "# 1. Dummy encoding"
   ],
   "metadata": {
    "collapsed": false,
    "pycharm": {
     "name": "#%% md\n"
    }
   }
  },
  {
   "cell_type": "code",
   "execution_count": 3,
   "outputs": [],
   "source": [
    "# create a dummy loop to create a new variable with value 0 if original was 0 and 1 if the original value was not zero\n",
    "def create_dummy(column):\n",
    "    return np.where(column == 0, 0, 1)"
   ],
   "metadata": {
    "collapsed": false,
    "pycharm": {
     "name": "#%%\n"
    }
   }
  },
  {
   "cell_type": "code",
   "execution_count": 4,
   "outputs": [
    {
     "data": {
      "text/plain": "Index(['log_deal_price', 'deal_price', 'acquirer_investment_rounds',\n       'acquirer_funding_rounds', 'acquirer_milestones',\n       'acquirer_relationships', 'acquirer_founded_year', 'acquirer_offices',\n       'acquirer_is_usa', 'acquirer_is_bay', 'acquirer_sector_IT',\n       'acquirer_sector_communication',\n       'acquirer_sector_consumer_discretionary', 'acquirer_sector_financials',\n       'acquirer_sector_health_care', 'acquirer_sector_industrials',\n       'acquirer_sector_other', 'acquirer_number_of_acquisitions',\n       'acquirer_age', 'acquired_investment_rounds', 'acquired_funding_rounds',\n       'acquired_milestones', 'acquired_relationships',\n       'acquired_founded_year', 'funds_backing_acquired', 'acquired_offices',\n       'acquired_is_usa', 'acquired_is_bay', 'founder_has_degree',\n       'acquired_sector_IT', 'acquired_sector_communication',\n       'acquired_sector_consumer_discretionary', 'acquired_sector_financials',\n       'acquired_sector_health_care', 'acquired_sector_industrials',\n       'acquired_sector_other', 'acquired_age', 'acquisition_year',\n       'same_country', 'same_sector'],\n      dtype='object')"
     },
     "execution_count": 4,
     "metadata": {},
     "output_type": "execute_result"
    }
   ],
   "source": [
    "df.columns"
   ],
   "metadata": {
    "collapsed": false,
    "pycharm": {
     "name": "#%%\n"
    }
   }
  },
  {
   "cell_type": "markdown",
   "source": [
    "**Type of dummy**\n",
    "we create two types of dummy variables.\n",
    "1) values higher than 0 in the original format are mapped to 1\n",
    "2) values higher than 1 in the original format are mapped to 1\n",
    "\n",
    "- funding and investment,  relationships and milestones, funds_backing_acquired belong to category 1\n",
    "- offices, number of acquisitions, belong to category 2"
   ],
   "metadata": {
    "collapsed": false,
    "pycharm": {
     "name": "#%% md\n"
    }
   }
  },
  {
   "cell_type": "markdown",
   "source": [
    "## 1.1. Acquirer dummies"
   ],
   "metadata": {
    "collapsed": false,
    "pycharm": {
     "name": "#%% md\n"
    }
   }
  },
  {
   "cell_type": "code",
   "execution_count": 5,
   "outputs": [],
   "source": [
    "# acquirer dummies\n",
    "df[\"acquirer_has_investment_rounds\"] = create_dummy(df.acquirer_investment_rounds)\n",
    "df[\"acquirer_has_funding_rounds\"] = create_dummy(df.acquirer_funding_rounds)\n",
    "df[\"acquirer_has_milestones\"] = create_dummy(df.acquirer_milestones)\n",
    "df[\"acquirer_has_relationships\"] = create_dummy(df.acquirer_relationships)"
   ],
   "metadata": {
    "collapsed": false,
    "pycharm": {
     "name": "#%%\n"
    }
   }
  },
  {
   "cell_type": "code",
   "execution_count": 6,
   "outputs": [],
   "source": [
    "df[\"acquirer_has_more_offices\"] = np.where(df.acquirer_offices <= 1, 0, 1)\n",
    "df[\"acquirer_has_more_acquisitions\"] = np.where(df.acquirer_number_of_acquisitions <= 1, 0, 1)"
   ],
   "metadata": {
    "collapsed": false,
    "pycharm": {
     "name": "#%%\n"
    }
   }
  },
  {
   "cell_type": "markdown",
   "source": [
    "## 1.2. Acquired dummies"
   ],
   "metadata": {
    "collapsed": false,
    "pycharm": {
     "name": "#%% md\n"
    }
   }
  },
  {
   "cell_type": "code",
   "execution_count": 7,
   "outputs": [],
   "source": [
    "# acquired dummies\n",
    "df[\"acquired_has_investment_rounds\"] = create_dummy(df.acquired_investment_rounds)\n",
    "df[\"acquired_has_funding_rounds\"] = create_dummy(df.acquired_funding_rounds)\n",
    "df[\"acquired_has_milestones\"] = create_dummy(df.acquired_milestones)\n",
    "df[\"acquired_has_relationships\"] = create_dummy(df.acquired_relationships)\n",
    "df[\"has_funds_backing_acquired\"] = create_dummy(df.funds_backing_acquired)"
   ],
   "metadata": {
    "collapsed": false,
    "pycharm": {
     "name": "#%%\n"
    }
   }
  },
  {
   "cell_type": "code",
   "execution_count": 8,
   "outputs": [],
   "source": [
    "df[\"acquired_has_more_offices\"] = np.where(df.acquired_offices <= 1, 0, 1)"
   ],
   "metadata": {
    "collapsed": false,
    "pycharm": {
     "name": "#%%\n"
    }
   }
  },
  {
   "cell_type": "markdown",
   "source": [
    "## 1.3. Final dummy-dataset"
   ],
   "metadata": {
    "collapsed": false,
    "pycharm": {
     "name": "#%% md\n"
    }
   }
  },
  {
   "cell_type": "code",
   "execution_count": 9,
   "outputs": [
    {
     "data": {
      "text/plain": "Index(['log_deal_price', 'deal_price', 'acquirer_investment_rounds',\n       'acquirer_funding_rounds', 'acquirer_milestones',\n       'acquirer_relationships', 'acquirer_founded_year', 'acquirer_offices',\n       'acquirer_is_usa', 'acquirer_is_bay', 'acquirer_sector_IT',\n       'acquirer_sector_communication',\n       'acquirer_sector_consumer_discretionary', 'acquirer_sector_financials',\n       'acquirer_sector_health_care', 'acquirer_sector_industrials',\n       'acquirer_sector_other', 'acquirer_number_of_acquisitions',\n       'acquirer_age', 'acquired_investment_rounds', 'acquired_funding_rounds',\n       'acquired_milestones', 'acquired_relationships',\n       'acquired_founded_year', 'funds_backing_acquired', 'acquired_offices',\n       'acquired_is_usa', 'acquired_is_bay', 'founder_has_degree',\n       'acquired_sector_IT', 'acquired_sector_communication',\n       'acquired_sector_consumer_discretionary', 'acquired_sector_financials',\n       'acquired_sector_health_care', 'acquired_sector_industrials',\n       'acquired_sector_other', 'acquired_age', 'acquisition_year',\n       'same_country', 'same_sector', 'acquirer_has_investment_rounds',\n       'acquirer_has_funding_rounds', 'acquirer_has_milestones',\n       'acquirer_has_relationships', 'acquirer_has_more_offices',\n       'acquirer_has_more_acquisitions', 'acquired_has_investment_rounds',\n       'acquired_has_funding_rounds', 'acquired_has_milestones',\n       'acquired_has_relationships', 'has_funds_backing_acquired',\n       'acquired_has_more_offices'],\n      dtype='object')"
     },
     "execution_count": 9,
     "metadata": {},
     "output_type": "execute_result"
    }
   ],
   "source": [
    "df.columns"
   ],
   "metadata": {
    "collapsed": false,
    "pycharm": {
     "name": "#%%\n"
    }
   }
  },
  {
   "cell_type": "code",
   "execution_count": 12,
   "outputs": [],
   "source": [
    "columns = ['log_deal_price', 'deal_price', 'acquirer_founded_year','acquirer_is_usa', 'acquirer_is_bay', 'acquirer_sector_IT', 'acquirer_sector_communication',\n",
    "           'acquirer_sector_consumer_discretionary', 'acquirer_sector_financials', 'acquirer_sector_health_care', 'acquirer_sector_industrials', 'acquirer_sector_other',\n",
    "           'acquirer_age', 'acquired_founded_year', 'acquired_is_usa', 'acquired_is_bay', 'founder_has_degree', 'acquired_sector_IT', 'acquired_sector_communication',\n",
    "           'acquired_sector_consumer_discretionary', 'acquired_sector_financials', 'acquired_sector_health_care', 'acquired_sector_industrials', 'acquired_sector_other',\n",
    "           'acquired_age', 'acquisition_year', 'same_country', 'same_sector', 'acquirer_has_investment_rounds', 'acquirer_has_funding_rounds', 'acquirer_has_milestones',\n",
    "           'acquirer_has_relationships', 'acquirer_has_more_offices', 'acquired_has_investment_rounds', 'acquired_has_funding_rounds', 'acquired_has_milestones',\n",
    "           'acquired_has_relationships', 'acquired_has_more_offices', 'has_funds_backing_acquired', 'acquirer_has_more_offices',\n",
    "           ]"
   ],
   "metadata": {
    "collapsed": false,
    "pycharm": {
     "name": "#%%\n"
    }
   }
  },
  {
   "cell_type": "code",
   "execution_count": 13,
   "outputs": [],
   "source": [
    "df_modelling = df[columns]"
   ],
   "metadata": {
    "collapsed": false,
    "pycharm": {
     "name": "#%%\n"
    }
   }
  },
  {
   "cell_type": "code",
   "execution_count": 15,
   "outputs": [],
   "source": [
    "df_modelling.to_excel(r\"C:\\Users\\32474\\Documents\\Ma TEW\\masterthesis\\data\\modelling_data_dummies.xlsx\")"
   ],
   "metadata": {
    "collapsed": false,
    "pycharm": {
     "name": "#%%\n"
    }
   }
  }
 ],
 "metadata": {
  "kernelspec": {
   "display_name": "Python 3",
   "language": "python",
   "name": "python3"
  },
  "language_info": {
   "codemirror_mode": {
    "name": "ipython",
    "version": 2
   },
   "file_extension": ".py",
   "mimetype": "text/x-python",
   "name": "python",
   "nbconvert_exporter": "python",
   "pygments_lexer": "ipython2",
   "version": "2.7.6"
  }
 },
 "nbformat": 4,
 "nbformat_minor": 0
}